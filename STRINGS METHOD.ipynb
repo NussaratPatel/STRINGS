{
 "cells": [
  {
   "cell_type": "markdown",
   "id": "4e8323b0",
   "metadata": {},
   "source": [
    "## STRINGS METHODS"
   ]
  },
  {
   "cell_type": "code",
   "execution_count": 1,
   "id": "36fec9b4",
   "metadata": {},
   "outputs": [],
   "source": [
    "#Note: All string methods returns new values. They do not change the original string.(it is immutable..)"
   ]
  },
  {
   "cell_type": "code",
   "execution_count": 2,
   "id": "1dcbc5f4",
   "metadata": {},
   "outputs": [
    {
     "data": {
      "text/plain": [
       "'Hello, and welcome to my world.'"
      ]
     },
     "execution_count": 2,
     "metadata": {},
     "output_type": "execute_result"
    }
   ],
   "source": [
    "#capitalize()\tConverts the first character to upper case\n",
    "text = \"hello, and welcome to my world.\"\n",
    "\n",
    "x = text.capitalize()\n",
    "x"
   ]
  },
  {
   "cell_type": "code",
   "execution_count": 3,
   "id": "0ba6cf53",
   "metadata": {},
   "outputs": [
    {
     "data": {
      "text/plain": [
       "'hello, and welcome to my world.'"
      ]
     },
     "execution_count": 3,
     "metadata": {},
     "output_type": "execute_result"
    }
   ],
   "source": [
    "#casefold()\tConverts string into lower case\n",
    "text = \"Hello, and Welcome to my world.\"\n",
    "\n",
    "x = text.casefold()\n",
    "x"
   ]
  },
  {
   "cell_type": "code",
   "execution_count": 4,
   "id": "c4e2a7a3",
   "metadata": {},
   "outputs": [
    {
     "data": {
      "text/plain": [
       "'         hello, and welcome to my world.          '"
      ]
     },
     "execution_count": 4,
     "metadata": {},
     "output_type": "execute_result"
    }
   ],
   "source": [
    "#center()\tReturns a centered string\n",
    "text = \"hello, and welcome to my world.\"\n",
    "x=text.center(50)\n",
    "x"
   ]
  },
  {
   "cell_type": "code",
   "execution_count": 5,
   "id": "a74b5838",
   "metadata": {},
   "outputs": [
    {
     "data": {
      "text/plain": [
       "3"
      ]
     },
     "execution_count": 5,
     "metadata": {},
     "output_type": "execute_result"
    }
   ],
   "source": [
    "#count()\tReturns the number of times a specified value occurs in a string\n",
    "Z=\"I love rose, rose is a king of flowers,and everyone loves rose\"\n",
    "x=Z.count(\"rose\")\n",
    "x"
   ]
  },
  {
   "cell_type": "code",
   "execution_count": 6,
   "id": "23bb5188",
   "metadata": {},
   "outputs": [
    {
     "data": {
      "text/plain": [
       "b'My name is St\\xc3\\xa5le'"
      ]
     },
     "execution_count": 6,
     "metadata": {},
     "output_type": "execute_result"
    }
   ],
   "source": [
    "#encode()\tReturns an encoded version of the string\n",
    "N= \"My name is Ståle\"\n",
    "x=N.encode()\n",
    "x"
   ]
  },
  {
   "cell_type": "code",
   "execution_count": 7,
   "id": "53cc2629",
   "metadata": {},
   "outputs": [
    {
     "data": {
      "text/plain": [
       "True"
      ]
     },
     "execution_count": 7,
     "metadata": {},
     "output_type": "execute_result"
    }
   ],
   "source": [
    "#endswith()\tReturns true if the string ends with the specified value\n",
    "text = \"hello, and welcome to my world.\"\n",
    "x=text.endswith('.')\n",
    "x"
   ]
  },
  {
   "cell_type": "code",
   "execution_count": 8,
   "id": "69098659",
   "metadata": {},
   "outputs": [
    {
     "data": {
      "text/plain": [
       "'H  E  L  L  O    W   O  R  L  D'"
      ]
     },
     "execution_count": 8,
     "metadata": {},
     "output_type": "execute_result"
    }
   ],
   "source": [
    "#expandtabs()\tSets the tab size of the string\n",
    "txt=\"H\\tE\\tL\\tL\\tO    W\\tO\\tR\\tL\\tD\"\n",
    "x=txt.expandtabs(3)\n",
    "x"
   ]
  },
  {
   "cell_type": "code",
   "execution_count": 9,
   "id": "8af37e65",
   "metadata": {},
   "outputs": [
    {
     "data": {
      "text/plain": [
       "11"
      ]
     },
     "execution_count": 9,
     "metadata": {},
     "output_type": "execute_result"
    }
   ],
   "source": [
    "#find()\tSearches the string for a specified value and returns the position of where it was found\n",
    "text = \"hello, and welcome to my world.\"\n",
    "x=text.find(\"welcome\")\n",
    "x"
   ]
  },
  {
   "cell_type": "code",
   "execution_count": 10,
   "id": "7792246d",
   "metadata": {},
   "outputs": [
    {
     "name": "stdout",
     "output_type": "stream",
     "text": [
      "My fovourite flower is rose\n"
     ]
    }
   ],
   "source": [
    "#format()\tFormats specified values in a string\n",
    "txt = \"My fovourite flower is {name:}\"\n",
    "print(txt.format(name = \"rose\"))"
   ]
  },
  {
   "cell_type": "code",
   "execution_count": 11,
   "id": "29de33e5",
   "metadata": {},
   "outputs": [
    {
     "data": {
      "text/plain": [
       "15"
      ]
     },
     "execution_count": 11,
     "metadata": {},
     "output_type": "execute_result"
    }
   ],
   "source": [
    "#index()\tSearches the string for a specified value and returns the position of where it was found\n",
    "text = \"Hello, welcome to my world.\"\n",
    "\n",
    "x = text.index(\"to\")\n",
    "x"
   ]
  },
  {
   "cell_type": "code",
   "execution_count": 12,
   "id": "bf257350",
   "metadata": {},
   "outputs": [
    {
     "data": {
      "text/plain": [
       "True"
      ]
     },
     "execution_count": 12,
     "metadata": {},
     "output_type": "execute_result"
    }
   ],
   "source": [
    "#isalnum()\tReturns True if all characters in the string are alphanumeric\n",
    "Z=\"Company12\"\n",
    "x=Z.isalnum()\n",
    "x"
   ]
  },
  {
   "cell_type": "code",
   "execution_count": 13,
   "id": "a3bf1493",
   "metadata": {},
   "outputs": [
    {
     "data": {
      "text/plain": [
       "False"
      ]
     },
     "execution_count": 13,
     "metadata": {},
     "output_type": "execute_result"
    }
   ],
   "source": [
    "#isalpha()\tReturns True if all characters in the string are in the alphabet\n",
    "Z=\"Company12\"\n",
    "x=Z.isalpha()\n",
    "x"
   ]
  },
  {
   "cell_type": "code",
   "execution_count": 14,
   "id": "4f8f9a96",
   "metadata": {},
   "outputs": [
    {
     "data": {
      "text/plain": [
       "True"
      ]
     },
     "execution_count": 14,
     "metadata": {},
     "output_type": "execute_result"
    }
   ],
   "source": [
    "#isascii()\tReturns True if all characters in the string are ascii characters\n",
    "Z=\"Comapny12\"\n",
    "x=Z.isascii()\n",
    "x"
   ]
  },
  {
   "cell_type": "code",
   "execution_count": 22,
   "id": "55953618",
   "metadata": {},
   "outputs": [
    {
     "data": {
      "text/plain": [
       "False"
      ]
     },
     "execution_count": 22,
     "metadata": {},
     "output_type": "execute_result"
    }
   ],
   "source": [
    "#isdecimal()\tReturns True if all characters in the string are decimals\n",
    "Z=\"Comapny123\"\n",
    "x=Z.isdecimal()\n",
    "x"
   ]
  },
  {
   "cell_type": "code",
   "execution_count": 24,
   "id": "585ff3c8",
   "metadata": {},
   "outputs": [
    {
     "data": {
      "text/plain": [
       "True"
      ]
     },
     "execution_count": 24,
     "metadata": {},
     "output_type": "execute_result"
    }
   ],
   "source": [
    "#isdigit()\tReturns True if all characters in the string are digits\n",
    "Z=\"company123\" #123\n",
    "x=Z.isdigit()\n",
    "x"
   ]
  },
  {
   "cell_type": "code",
   "execution_count": 27,
   "id": "e7c77303",
   "metadata": {},
   "outputs": [
    {
     "data": {
      "text/plain": [
       "False"
      ]
     },
     "execution_count": 27,
     "metadata": {},
     "output_type": "execute_result"
    }
   ],
   "source": [
    "#isidentifier()\tReturns True if the string is an identifier\n",
    "S=\"Demo\" #1demo\n",
    "x=S.isidentifier()\n",
    "x"
   ]
  },
  {
   "cell_type": "code",
   "execution_count": 29,
   "id": "32e48e52",
   "metadata": {},
   "outputs": [
    {
     "data": {
      "text/plain": [
       "True"
      ]
     },
     "execution_count": 29,
     "metadata": {},
     "output_type": "execute_result"
    }
   ],
   "source": [
    "#islower()\tReturns True if all characters in the string are lower case\n",
    "S=\"demo\"\n",
    "x=S.islower()\n",
    "x"
   ]
  },
  {
   "cell_type": "code",
   "execution_count": 31,
   "id": "cb90c261",
   "metadata": {},
   "outputs": [
    {
     "data": {
      "text/plain": [
       "True"
      ]
     },
     "execution_count": 31,
     "metadata": {},
     "output_type": "execute_result"
    }
   ],
   "source": [
    "#isnumeric()\tReturns True if all characters in the string are numeric\n",
    "S=\"123\"\n",
    "x=S.isnumeric()\n",
    "x"
   ]
  },
  {
   "cell_type": "code",
   "execution_count": 34,
   "id": "e4d390a4",
   "metadata": {},
   "outputs": [
    {
     "data": {
      "text/plain": [
       "True"
      ]
     },
     "execution_count": 34,
     "metadata": {},
     "output_type": "execute_result"
    }
   ],
   "source": [
    "#isprintable()\tReturns True if all characters in the string are printable\n",
    "S=\"Demo123\"\n",
    "x=S.isprintable()\n",
    "x"
   ]
  },
  {
   "cell_type": "code",
   "execution_count": 36,
   "id": "d24e077c",
   "metadata": {},
   "outputs": [
    {
     "data": {
      "text/plain": [
       "True"
      ]
     },
     "execution_count": 36,
     "metadata": {},
     "output_type": "execute_result"
    }
   ],
   "source": [
    "#isspace()\tReturns True if all characters in the string are whitespaces\n",
    "S=\"     \"\n",
    "x=S.isspace()\n",
    "x"
   ]
  },
  {
   "cell_type": "code",
   "execution_count": 39,
   "id": "cf94b63b",
   "metadata": {},
   "outputs": [
    {
     "data": {
      "text/plain": [
       "False"
      ]
     },
     "execution_count": 39,
     "metadata": {},
     "output_type": "execute_result"
    }
   ],
   "source": [
    "#istitle()\tReturns True if the string follows the rules of a title\n",
    "text = \"Hello, Welcome to my World.\"\n",
    "x=text.istitle()\n",
    "x"
   ]
  },
  {
   "cell_type": "code",
   "execution_count": 40,
   "id": "688227f0",
   "metadata": {},
   "outputs": [
    {
     "data": {
      "text/plain": [
       "False"
      ]
     },
     "execution_count": 40,
     "metadata": {},
     "output_type": "execute_result"
    }
   ],
   "source": [
    "#isupper()\tReturns True if all characters in the string are upper case\n",
    "text = \"Hello, Welcome to my World.\"\n",
    "x=text.isupper()\n",
    "x"
   ]
  },
  {
   "cell_type": "code",
   "execution_count": 41,
   "id": "075b0866",
   "metadata": {},
   "outputs": [
    {
     "data": {
      "text/plain": [
       "'John*Peter*Vicky'"
      ]
     },
     "execution_count": 41,
     "metadata": {},
     "output_type": "execute_result"
    }
   ],
   "source": [
    "#join()\tConverts the elements of an iterable into a string\n",
    "myTuple = (\"John\", \"Peter\", \"Vicky\")\n",
    "\n",
    "x = \"*\".join(myTuple)\n",
    "x"
   ]
  },
  {
   "cell_type": "code",
   "execution_count": 42,
   "id": "891d8218",
   "metadata": {},
   "outputs": [
    {
     "name": "stdout",
     "output_type": "stream",
     "text": [
      "banana                                             is my favorite fruit.\n"
     ]
    }
   ],
   "source": [
    "#ljust()\tReturns a left justified version of the string\n",
    "t = \"banana\"\n",
    "\n",
    "x = t.ljust(50)\n",
    "\n",
    "print(x, \"is my favorite fruit.\")"
   ]
  },
  {
   "cell_type": "code",
   "execution_count": 44,
   "id": "2bac2824",
   "metadata": {},
   "outputs": [
    {
     "data": {
      "text/plain": [
       "'banana'"
      ]
     },
     "execution_count": 44,
     "metadata": {},
     "output_type": "execute_result"
    }
   ],
   "source": [
    "#lower()\tConverts a string into lower case\n",
    "t=\"BANANA\"\n",
    "x=t.lower()\n",
    "x"
   ]
  },
  {
   "cell_type": "code",
   "execution_count": 46,
   "id": "fa6f4cd6",
   "metadata": {},
   "outputs": [
    {
     "data": {
      "text/plain": [
       "'Banana********'"
      ]
     },
     "execution_count": 46,
     "metadata": {},
     "output_type": "execute_result"
    }
   ],
   "source": [
    "#lstrip()\tReturns a left trim version of the string\n",
    "t=\"************Banana********\"\n",
    "x=t.lstrip(\"*\")\n",
    "x"
   ]
  },
  {
   "cell_type": "code",
   "execution_count": 47,
   "id": "9cb3894d",
   "metadata": {},
   "outputs": [
    {
     "name": "stdout",
     "output_type": "stream",
     "text": [
      "Hello Piya!\n"
     ]
    }
   ],
   "source": [
    "#maketrans()\tReturns a translation table to be used in translations\n",
    "txt = \"Hello Siya!\"\n",
    "mytable = str.maketrans(\"S\", \"P\")\n",
    "print(txt.translate(mytable))\n"
   ]
  },
  {
   "cell_type": "code",
   "execution_count": 48,
   "id": "7ad8a133",
   "metadata": {},
   "outputs": [
    {
     "data": {
      "text/plain": [
       "('I could watch ', 'movies', ' all day')"
      ]
     },
     "execution_count": 48,
     "metadata": {},
     "output_type": "execute_result"
    }
   ],
   "source": [
    "#partition()\tReturns a tuple where the string is parted into three parts\n",
    "Z= \"I could watch movies all day\"\n",
    "x = Z.partition(\"movies\")\n",
    "x"
   ]
  },
  {
   "cell_type": "code",
   "execution_count": 50,
   "id": "11a798ca",
   "metadata": {},
   "outputs": [
    {
     "data": {
      "text/plain": [
       "'I can watch 6 movies all day '"
      ]
     },
     "execution_count": 50,
     "metadata": {},
     "output_type": "execute_result"
    }
   ],
   "source": [
    "#replace()\tReturns a string where a specified value is replaced with a specified value\n",
    "Z=\"I can watch 4 movies all day \"\n",
    "x=Z.replace(\"4\",\"6\")\n",
    "x"
   ]
  },
  {
   "cell_type": "code",
   "execution_count": 51,
   "id": "dd8c9906",
   "metadata": {},
   "outputs": [
    {
     "data": {
      "text/plain": [
       "25"
      ]
     },
     "execution_count": 51,
     "metadata": {},
     "output_type": "execute_result"
    }
   ],
   "source": [
    "#rfind()\tSearches the string for a specified value and returns the last position of where it was found\n",
    "Z=\"I can watch 4 movies and 4 web series in a day\"\n",
    "x=Z.rfind(\"4\")\n",
    "x"
   ]
  },
  {
   "cell_type": "code",
   "execution_count": 52,
   "id": "07f0fa23",
   "metadata": {},
   "outputs": [
    {
     "data": {
      "text/plain": [
       "25"
      ]
     },
     "execution_count": 52,
     "metadata": {},
     "output_type": "execute_result"
    }
   ],
   "source": [
    "#rindex()\tSearches the string for a specified value and returns the last position of where it was found\n",
    "Z=\"I can watch 4 movies and 4 web series in a day\"\n",
    "x=Z.rindex(\"4\")\n",
    "x"
   ]
  },
  {
   "cell_type": "code",
   "execution_count": 55,
   "id": "f3989ffa",
   "metadata": {},
   "outputs": [
    {
     "name": "stdout",
     "output_type": "stream",
     "text": [
      "                                            banana is my favorite fruit.\n"
     ]
    }
   ],
   "source": [
    "#rjust()\tReturns a right justified version of the string\n",
    "t = \"banana\"\n",
    "x = t.rjust(50)\n",
    "print(x, \"is my favorite fruit.\")"
   ]
  },
  {
   "cell_type": "code",
   "execution_count": 59,
   "id": "7e22b9eb",
   "metadata": {},
   "outputs": [
    {
     "data": {
      "text/plain": [
       "('I love rose, rose is a king of flowers,and everyone loves ', 'rose', '')"
      ]
     },
     "execution_count": 59,
     "metadata": {},
     "output_type": "execute_result"
    }
   ],
   "source": [
    "#rpartition()\tReturns a tuple where the string is parted into three parts\n",
    "Z=\"I love rose, rose is a king of flowers,and everyone loves rose\"\n",
    "x = Z.rpartition(\"rose\")\n",
    "x"
   ]
  },
  {
   "cell_type": "code",
   "execution_count": 63,
   "id": "2ec23d3a",
   "metadata": {},
   "outputs": [
    {
     "data": {
      "text/plain": [
       "['I love rose', ' rose is a king of flowers', 'and everyone loves rose']"
      ]
     },
     "execution_count": 63,
     "metadata": {},
     "output_type": "execute_result"
    }
   ],
   "source": [
    "#rsplit()\tSplits the string at the specified separator, and returns a list\n",
    "Z=\"I love rose, rose is a king of flowers,and everyone loves rose\"\n",
    "x = Z.rsplit(\",\")\n",
    "x"
   ]
  },
  {
   "cell_type": "code",
   "execution_count": 64,
   "id": "0c1412f8",
   "metadata": {},
   "outputs": [
    {
     "data": {
      "text/plain": [
       "'************Banana'"
      ]
     },
     "execution_count": 64,
     "metadata": {},
     "output_type": "execute_result"
    }
   ],
   "source": [
    "#rstrip()\tReturns a right trim version of the string\n",
    "t=\"************Banana********\"\n",
    "x=t.rstrip(\"*\")\n",
    "x"
   ]
  },
  {
   "cell_type": "code",
   "execution_count": 65,
   "id": "a6126a8f",
   "metadata": {},
   "outputs": [
    {
     "data": {
      "text/plain": [
       "['I love rose', ' rose is a king of flowers', 'and everyone loves rose']"
      ]
     },
     "execution_count": 65,
     "metadata": {},
     "output_type": "execute_result"
    }
   ],
   "source": [
    "#split()\tSplits the string at the specified separator, and returns a list\n",
    "Z=\"I love rose, rose is a king of flowers,and everyone loves rose\"\n",
    "x = Z.split(\",\")\n",
    "x"
   ]
  },
  {
   "cell_type": "code",
   "execution_count": 66,
   "id": "1df68ecb",
   "metadata": {},
   "outputs": [
    {
     "data": {
      "text/plain": [
       "['Thank you for the music', 'Welcome to the jungle']"
      ]
     },
     "execution_count": 66,
     "metadata": {},
     "output_type": "execute_result"
    }
   ],
   "source": [
    "#splitlines()\tSplits the string at line breaks and returns a list\n",
    "Z=\"Thank you for the music\\nWelcome to the jungle\"\n",
    "x=Z.splitlines()\n",
    "x"
   ]
  },
  {
   "cell_type": "code",
   "execution_count": 67,
   "id": "a2484096",
   "metadata": {},
   "outputs": [
    {
     "data": {
      "text/plain": [
       "True"
      ]
     },
     "execution_count": 67,
     "metadata": {},
     "output_type": "execute_result"
    }
   ],
   "source": [
    "#startswith()\tReturns true if the string starts with the specified value\n",
    "text = \"hello, and welcome to my world.\"\n",
    "x=text.startswith('h')\n",
    "x"
   ]
  },
  {
   "cell_type": "code",
   "execution_count": 68,
   "id": "d74e1d9d",
   "metadata": {},
   "outputs": [
    {
     "name": "stdout",
     "output_type": "stream",
     "text": [
      "of all fruits banana is my favorite\n"
     ]
    }
   ],
   "source": [
    "#strip()\tReturns a trimmed version of the string\n",
    "Z=\"                 banana             \"\n",
    "x=Z.strip()\n",
    "print(\"of all fruits\", x, \"is my favorite\")"
   ]
  },
  {
   "cell_type": "code",
   "execution_count": 69,
   "id": "5eb07c95",
   "metadata": {},
   "outputs": [
    {
     "data": {
      "text/plain": [
       "'HeLLO, aND WELcOME TO mY wORLD.'"
      ]
     },
     "execution_count": 69,
     "metadata": {},
     "output_type": "execute_result"
    }
   ],
   "source": [
    "#swapcase()\tSwaps cases, lower case becomes upper case and vice versa\n",
    "text = \"hEllo, And welCome to My World.\"\n",
    "x=text.swapcase()\n",
    "x"
   ]
  },
  {
   "cell_type": "code",
   "execution_count": 70,
   "id": "5bf13810",
   "metadata": {},
   "outputs": [
    {
     "data": {
      "text/plain": [
       "'Hello, And Welcome To My World.'"
      ]
     },
     "execution_count": 70,
     "metadata": {},
     "output_type": "execute_result"
    }
   ],
   "source": [
    "#title()\tConverts the first character of each word to upper case\n",
    "text = \"hello, and welcome to my world.\"\n",
    "x=text.title()\n",
    "x"
   ]
  },
  {
   "cell_type": "code",
   "execution_count": 71,
   "id": "c8dda622",
   "metadata": {},
   "outputs": [
    {
     "data": {
      "text/plain": [
       "'HELLO, AND WELCOME TO MY WORLD.'"
      ]
     },
     "execution_count": 71,
     "metadata": {},
     "output_type": "execute_result"
    }
   ],
   "source": [
    "#upper()\tConverts a string into upper case\n",
    "text = \"hello, and welcome to my world.\"\n",
    "x=text.upper()\n",
    "x"
   ]
  },
  {
   "cell_type": "code",
   "execution_count": 72,
   "id": "afe10307",
   "metadata": {},
   "outputs": [
    {
     "name": "stdout",
     "output_type": "stream",
     "text": [
      "Hello Pam!\n"
     ]
    }
   ],
   "source": [
    "#translate()\tReturns a translated string\n",
    "#use a dictionary with ascii codes to replace 83 (S) with 80 (P):\n",
    "mydict = {83:  80}\n",
    "txt = \"Hello Sam!\"\n",
    "print(txt.translate(mydict))"
   ]
  },
  {
   "cell_type": "code",
   "execution_count": 74,
   "id": "c1e9c888",
   "metadata": {},
   "outputs": [
    {
     "data": {
      "text/plain": [
       "'000000000x'"
      ]
     },
     "execution_count": 74,
     "metadata": {},
     "output_type": "execute_result"
    }
   ],
   "source": [
    "#zfill()\tFills the string with a specified number of 0 values at the beginning\n",
    "Z=\"x\"\n",
    "x=Z.zfill(10)\n",
    "x"
   ]
  },
  {
   "cell_type": "code",
   "execution_count": null,
   "id": "06e59f62",
   "metadata": {},
   "outputs": [],
   "source": []
  }
 ],
 "metadata": {
  "kernelspec": {
   "display_name": "Python 3 (ipykernel)",
   "language": "python",
   "name": "python3"
  },
  "language_info": {
   "codemirror_mode": {
    "name": "ipython",
    "version": 3
   },
   "file_extension": ".py",
   "mimetype": "text/x-python",
   "name": "python",
   "nbconvert_exporter": "python",
   "pygments_lexer": "ipython3",
   "version": "3.11.5"
  }
 },
 "nbformat": 4,
 "nbformat_minor": 5
}
